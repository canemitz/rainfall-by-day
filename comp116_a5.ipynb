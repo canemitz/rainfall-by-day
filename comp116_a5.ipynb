{
 "cells": [
  {
   "cell_type": "markdown",
   "metadata": {},
   "source": [
    "# Rainfall and Estimating Statistical Significance \n",
    "At the suggestion of a friend, I am completing assignment 5 from COMP 116 from UNC.  \n",
    "\n",
    "The course website, courtesy of Professor Gary Bishop, can be found at:  \n",
    "https://wwwx.cs.unc.edu/Courses/comp116-s16/A5.html  \n",
    "\n",
    "---"
   ]
  },
  {
   "cell_type": "markdown",
   "metadata": {},
   "source": [
    "According to [this NASA article](https://www.nasa.gov/topics/earth/features/midweek_rainfall.html 'NASA Data Link Pollution to Rainy Summer Days in the Southeast'), there is more rainfall during the week than on weekends from summer storms in the Southeastern US. The goal of this assignment is to see whether rainfall data from our local airport (RDU) supports this.\n",
    "\n",
    "Professor Bishop provided 10 years of daily rainfall data in a csv file for his class, but it does not appear to be available on the course page, so I will first get that data.\n",
    "\n",
    "Specific instructions given are as follows:  \n",
    "1. Read the data.\n",
    "2. Determine the days of the week from the dates.\n",
    "3. Write a function to get the average daily rainfall for the midweek (T-R) and the weekend (S-M).<br>\n",
    "(I'm not sure why Friday is left out, but both the assignment and the NASA article say \"midweek\" is Tuesday through Thursday, and \"weekend\" is Saturday through Monday. [Well, the assignment gives them those labels, and the NASA article refers to those day ranges.])\n",
    "4. Report the average daily rainfall for the midweek and weekend, and the difference between these.\n",
    "5. Determine and report the p-value by simulation.\n",
    "---"
   ]
  },
  {
   "cell_type": "markdown",
   "metadata": {},
   "source": [
    "I downloaded a daily summary for January 1, 2009 through January 2, 2019 for RDU from\n",
    "[NOAA](https://www.ncdc.noaa.gov/cdo-web/search) (technically placed an order which cost nothing; it was very quick)."
   ]
  },
  {
   "cell_type": "code",
   "execution_count": 1,
   "metadata": {},
   "outputs": [],
   "source": [
    "# import packages\n",
    "import numpy as np\n",
    "import pandas as pd # version 0.23 is required for dt.day_name()\n",
    "import matplotlib.pyplot as plt"
   ]
  },
  {
   "cell_type": "markdown",
   "metadata": {},
   "source": [
    "### 1. Read the data."
   ]
  },
  {
   "cell_type": "code",
   "execution_count": 2,
   "metadata": {},
   "outputs": [],
   "source": [
    "# load the data\n",
    "rdu_data = pd.read_csv('rdu_weather_data_2009_2019.csv')"
   ]
  },
  {
   "cell_type": "code",
   "execution_count": 3,
   "metadata": {},
   "outputs": [
    {
     "data": {
      "text/html": [
       "<div>\n",
       "<style scoped>\n",
       "    .dataframe tbody tr th:only-of-type {\n",
       "        vertical-align: middle;\n",
       "    }\n",
       "\n",
       "    .dataframe tbody tr th {\n",
       "        vertical-align: top;\n",
       "    }\n",
       "\n",
       "    .dataframe thead th {\n",
       "        text-align: right;\n",
       "    }\n",
       "</style>\n",
       "<table border=\"1\" class=\"dataframe\">\n",
       "  <thead>\n",
       "    <tr style=\"text-align: right;\">\n",
       "      <th></th>\n",
       "      <th>STATION</th>\n",
       "      <th>NAME</th>\n",
       "      <th>DATE</th>\n",
       "      <th>PRCP</th>\n",
       "      <th>SNOW</th>\n",
       "      <th>SNWD</th>\n",
       "      <th>TAVG</th>\n",
       "      <th>TMAX</th>\n",
       "      <th>TMIN</th>\n",
       "    </tr>\n",
       "  </thead>\n",
       "  <tbody>\n",
       "    <tr>\n",
       "      <th>0</th>\n",
       "      <td>USW00013722</td>\n",
       "      <td>RALEIGH AIRPORT, NC US</td>\n",
       "      <td>2009-01-01</td>\n",
       "      <td>0.0</td>\n",
       "      <td>0.0</td>\n",
       "      <td>0.0</td>\n",
       "      <td>NaN</td>\n",
       "      <td>5.6</td>\n",
       "      <td>-5.0</td>\n",
       "    </tr>\n",
       "    <tr>\n",
       "      <th>1</th>\n",
       "      <td>USW00013722</td>\n",
       "      <td>RALEIGH AIRPORT, NC US</td>\n",
       "      <td>2009-01-02</td>\n",
       "      <td>1.3</td>\n",
       "      <td>0.0</td>\n",
       "      <td>0.0</td>\n",
       "      <td>NaN</td>\n",
       "      <td>5.6</td>\n",
       "      <td>-2.8</td>\n",
       "    </tr>\n",
       "    <tr>\n",
       "      <th>2</th>\n",
       "      <td>USW00013722</td>\n",
       "      <td>RALEIGH AIRPORT, NC US</td>\n",
       "      <td>2009-01-03</td>\n",
       "      <td>0.0</td>\n",
       "      <td>0.0</td>\n",
       "      <td>0.0</td>\n",
       "      <td>NaN</td>\n",
       "      <td>14.4</td>\n",
       "      <td>0.0</td>\n",
       "    </tr>\n",
       "    <tr>\n",
       "      <th>3</th>\n",
       "      <td>USW00013722</td>\n",
       "      <td>RALEIGH AIRPORT, NC US</td>\n",
       "      <td>2009-01-04</td>\n",
       "      <td>15.7</td>\n",
       "      <td>0.0</td>\n",
       "      <td>0.0</td>\n",
       "      <td>NaN</td>\n",
       "      <td>13.3</td>\n",
       "      <td>6.1</td>\n",
       "    </tr>\n",
       "    <tr>\n",
       "      <th>4</th>\n",
       "      <td>USW00013722</td>\n",
       "      <td>RALEIGH AIRPORT, NC US</td>\n",
       "      <td>2009-01-05</td>\n",
       "      <td>0.0</td>\n",
       "      <td>0.0</td>\n",
       "      <td>0.0</td>\n",
       "      <td>NaN</td>\n",
       "      <td>15.6</td>\n",
       "      <td>11.7</td>\n",
       "    </tr>\n",
       "  </tbody>\n",
       "</table>\n",
       "</div>"
      ],
      "text/plain": [
       "       STATION                    NAME        DATE  PRCP  SNOW  SNWD  TAVG  \\\n",
       "0  USW00013722  RALEIGH AIRPORT, NC US  2009-01-01   0.0   0.0   0.0   NaN   \n",
       "1  USW00013722  RALEIGH AIRPORT, NC US  2009-01-02   1.3   0.0   0.0   NaN   \n",
       "2  USW00013722  RALEIGH AIRPORT, NC US  2009-01-03   0.0   0.0   0.0   NaN   \n",
       "3  USW00013722  RALEIGH AIRPORT, NC US  2009-01-04  15.7   0.0   0.0   NaN   \n",
       "4  USW00013722  RALEIGH AIRPORT, NC US  2009-01-05   0.0   0.0   0.0   NaN   \n",
       "\n",
       "   TMAX  TMIN  \n",
       "0   5.6  -5.0  \n",
       "1   5.6  -2.8  \n",
       "2  14.4   0.0  \n",
       "3  13.3   6.1  \n",
       "4  15.6  11.7  "
      ]
     },
     "execution_count": 3,
     "metadata": {},
     "output_type": "execute_result"
    }
   ],
   "source": [
    "rdu_data.head()"
   ]
  },
  {
   "cell_type": "code",
   "execution_count": 4,
   "metadata": {},
   "outputs": [],
   "source": [
    "# I selected the station ID (although it's all from RDU), date, precipitation, snowfall,\n",
    "# snow depth, average temp, max temp, and min temp.\n",
    "# Average temp seems to be empty until april of 2013"
   ]
  },
  {
   "cell_type": "markdown",
   "metadata": {},
   "source": [
    "### 2. Determine days of the week."
   ]
  },
  {
   "cell_type": "code",
   "execution_count": 5,
   "metadata": {},
   "outputs": [
    {
     "name": "stdout",
     "output_type": "stream",
     "text": [
      "<class 'pandas.core.frame.DataFrame'>\n",
      "RangeIndex: 3653 entries, 0 to 3652\n",
      "Data columns (total 9 columns):\n",
      "STATION    3653 non-null object\n",
      "NAME       3653 non-null object\n",
      "DATE       3653 non-null object\n",
      "PRCP       3653 non-null float64\n",
      "SNOW       3653 non-null float64\n",
      "SNWD       3653 non-null float64\n",
      "TAVG       2102 non-null float64\n",
      "TMAX       3653 non-null float64\n",
      "TMIN       3653 non-null float64\n",
      "dtypes: float64(6), object(3)\n",
      "memory usage: 256.9+ KB\n"
     ]
    }
   ],
   "source": [
    "# the DATE column is an object\n",
    "rdu_data.info()"
   ]
  },
  {
   "cell_type": "code",
   "execution_count": 6,
   "metadata": {},
   "outputs": [
    {
     "name": "stdout",
     "output_type": "stream",
     "text": [
      "<class 'pandas.core.frame.DataFrame'>\n",
      "RangeIndex: 3653 entries, 0 to 3652\n",
      "Data columns (total 9 columns):\n",
      "STATION    3653 non-null object\n",
      "NAME       3653 non-null object\n",
      "DATE       3653 non-null datetime64[ns]\n",
      "PRCP       3653 non-null float64\n",
      "SNOW       3653 non-null float64\n",
      "SNWD       3653 non-null float64\n",
      "TAVG       2102 non-null float64\n",
      "TMAX       3653 non-null float64\n",
      "TMIN       3653 non-null float64\n",
      "dtypes: datetime64[ns](1), float64(6), object(2)\n",
      "memory usage: 256.9+ KB\n"
     ]
    }
   ],
   "source": [
    "# convert the DATE column to a datetime object\n",
    "rdu_data['DATE'] = pd.to_datetime(rdu_data['DATE'])\n",
    "rdu_data.info()"
   ]
  },
  {
   "cell_type": "code",
   "execution_count": 7,
   "metadata": {},
   "outputs": [
    {
     "data": {
      "text/html": [
       "<div>\n",
       "<style scoped>\n",
       "    .dataframe tbody tr th:only-of-type {\n",
       "        vertical-align: middle;\n",
       "    }\n",
       "\n",
       "    .dataframe tbody tr th {\n",
       "        vertical-align: top;\n",
       "    }\n",
       "\n",
       "    .dataframe thead th {\n",
       "        text-align: right;\n",
       "    }\n",
       "</style>\n",
       "<table border=\"1\" class=\"dataframe\">\n",
       "  <thead>\n",
       "    <tr style=\"text-align: right;\">\n",
       "      <th></th>\n",
       "      <th>STATION</th>\n",
       "      <th>NAME</th>\n",
       "      <th>DATE</th>\n",
       "      <th>PRCP</th>\n",
       "      <th>SNOW</th>\n",
       "      <th>SNWD</th>\n",
       "      <th>TAVG</th>\n",
       "      <th>TMAX</th>\n",
       "      <th>TMIN</th>\n",
       "      <th>DAY</th>\n",
       "    </tr>\n",
       "  </thead>\n",
       "  <tbody>\n",
       "    <tr>\n",
       "      <th>0</th>\n",
       "      <td>USW00013722</td>\n",
       "      <td>RALEIGH AIRPORT, NC US</td>\n",
       "      <td>2009-01-01</td>\n",
       "      <td>0.0</td>\n",
       "      <td>0.0</td>\n",
       "      <td>0.0</td>\n",
       "      <td>NaN</td>\n",
       "      <td>5.6</td>\n",
       "      <td>-5.0</td>\n",
       "      <td>Thursday</td>\n",
       "    </tr>\n",
       "    <tr>\n",
       "      <th>1</th>\n",
       "      <td>USW00013722</td>\n",
       "      <td>RALEIGH AIRPORT, NC US</td>\n",
       "      <td>2009-01-02</td>\n",
       "      <td>1.3</td>\n",
       "      <td>0.0</td>\n",
       "      <td>0.0</td>\n",
       "      <td>NaN</td>\n",
       "      <td>5.6</td>\n",
       "      <td>-2.8</td>\n",
       "      <td>Friday</td>\n",
       "    </tr>\n",
       "    <tr>\n",
       "      <th>2</th>\n",
       "      <td>USW00013722</td>\n",
       "      <td>RALEIGH AIRPORT, NC US</td>\n",
       "      <td>2009-01-03</td>\n",
       "      <td>0.0</td>\n",
       "      <td>0.0</td>\n",
       "      <td>0.0</td>\n",
       "      <td>NaN</td>\n",
       "      <td>14.4</td>\n",
       "      <td>0.0</td>\n",
       "      <td>Saturday</td>\n",
       "    </tr>\n",
       "    <tr>\n",
       "      <th>3</th>\n",
       "      <td>USW00013722</td>\n",
       "      <td>RALEIGH AIRPORT, NC US</td>\n",
       "      <td>2009-01-04</td>\n",
       "      <td>15.7</td>\n",
       "      <td>0.0</td>\n",
       "      <td>0.0</td>\n",
       "      <td>NaN</td>\n",
       "      <td>13.3</td>\n",
       "      <td>6.1</td>\n",
       "      <td>Sunday</td>\n",
       "    </tr>\n",
       "    <tr>\n",
       "      <th>4</th>\n",
       "      <td>USW00013722</td>\n",
       "      <td>RALEIGH AIRPORT, NC US</td>\n",
       "      <td>2009-01-05</td>\n",
       "      <td>0.0</td>\n",
       "      <td>0.0</td>\n",
       "      <td>0.0</td>\n",
       "      <td>NaN</td>\n",
       "      <td>15.6</td>\n",
       "      <td>11.7</td>\n",
       "      <td>Monday</td>\n",
       "    </tr>\n",
       "  </tbody>\n",
       "</table>\n",
       "</div>"
      ],
      "text/plain": [
       "       STATION                    NAME       DATE  PRCP  SNOW  SNWD  TAVG  \\\n",
       "0  USW00013722  RALEIGH AIRPORT, NC US 2009-01-01   0.0   0.0   0.0   NaN   \n",
       "1  USW00013722  RALEIGH AIRPORT, NC US 2009-01-02   1.3   0.0   0.0   NaN   \n",
       "2  USW00013722  RALEIGH AIRPORT, NC US 2009-01-03   0.0   0.0   0.0   NaN   \n",
       "3  USW00013722  RALEIGH AIRPORT, NC US 2009-01-04  15.7   0.0   0.0   NaN   \n",
       "4  USW00013722  RALEIGH AIRPORT, NC US 2009-01-05   0.0   0.0   0.0   NaN   \n",
       "\n",
       "   TMAX  TMIN       DAY  \n",
       "0   5.6  -5.0  Thursday  \n",
       "1   5.6  -2.8    Friday  \n",
       "2  14.4   0.0  Saturday  \n",
       "3  13.3   6.1    Sunday  \n",
       "4  15.6  11.7    Monday  "
      ]
     },
     "execution_count": 7,
     "metadata": {},
     "output_type": "execute_result"
    }
   ],
   "source": [
    "# use the DATE column to get the days of the week into a new column\n",
    "rdu_data['DAY'] = rdu_data['DATE'].dt.day_name()\n",
    "rdu_data.head()"
   ]
  },
  {
   "cell_type": "markdown",
   "metadata": {},
   "source": [
    "### 3. Write a function to get the average daily rainfall for the midweek (T-R) and the weekend (S-M)."
   ]
  },
  {
   "cell_type": "code",
   "execution_count": 8,
   "metadata": {},
   "outputs": [],
   "source": [
    "# define these lists out here so I can use them elsewhere, too\n",
    "midweek = ['Tuesday', 'Wednesday', 'Thursday'] # see you later, Friday?\n",
    "weekend = ['Saturday', 'Sunday', 'Monday']\n",
    "\n",
    "# define a function that takes a dataframe and the names of the rainfall and day columns, \n",
    "# and returns the midweek and weekend average rainfalls\n",
    "# along with the number of days used to compute those averages\n",
    "def rain_avgs(df, prcp, day):\n",
    "    \n",
    "    mid_avg = df[df[day].isin(midweek)][prcp].mean()\n",
    "    end_avg = df[df[day].isin(weekend)][prcp].mean()\n",
    "    \n",
    "    return mid_avg, end_avg"
   ]
  },
  {
   "cell_type": "markdown",
   "metadata": {},
   "source": [
    "### 4. Report the average daily rainfall for the midweek and weekend, and the difference between them."
   ]
  },
  {
   "cell_type": "code",
   "execution_count": 10,
   "metadata": {},
   "outputs": [
    {
     "name": "stdout",
     "output_type": "stream",
     "text": [
      "The average daily rainfall was 3.07 cm from Tue through Thu between 2009 and 2019\n",
      "The average daily rainfall was 3.62 cm from Sat through Mon between 2009 and 2019\n",
      "The absolute difference in the average daily rainfall between the midweek and weekend was 0.55 cm\n"
     ]
    }
   ],
   "source": [
    "# Get the midweek and weekend averages for RDU from 2009 to 2019\n",
    "mid_avg, end_avg = rain_avgs(rdu_data, 'PRCP', 'DAY')\n",
    "\n",
    "# find the difference\n",
    "diff_avg = abs(mid_avg - end_avg)\n",
    "\n",
    "# print the above values\n",
    "print(f'The average daily rainfall was {mid_avg:.2f} cm from Tue through Thu between 2009 and 2019')\n",
    "print(f'The average daily rainfall was {end_avg:.2f} cm from Sat through Mon between 2009 and 2019')\n",
    "print(f'The absolute difference in the average daily rainfall between the midweek and weekend was {diff_avg:.2f} cm')"
   ]
  },
  {
   "cell_type": "markdown",
   "metadata": {},
   "source": [
    "### 5. Determine and report the p-value by simulation."
   ]
  },
  {
   "cell_type": "code",
   "execution_count": 11,
   "metadata": {},
   "outputs": [],
   "source": [
    "# test the null hypothesis\n",
    "# (that there is no difference in the average rainfall between the midweek and weekend)\n",
    "\n",
    "# by running the above fcn many times with different permutations of the days,\n",
    "# (i.e., random assigning days to be labeled \"midweek\" or \"weekend\", essentially)\n",
    "\n",
    "# and counting how many times the difference between the means is greater than the difference\n",
    "# reported above between the midweek and weekend groups"
   ]
  },
  {
   "cell_type": "code",
   "execution_count": 12,
   "metadata": {},
   "outputs": [],
   "source": [
    "# I made the rain_avgs fcn to specifically compare midweek to weekend days\n",
    "# and it's not a complicated fcn, so I'm not actually going to use it to do the permutation testing\n",
    "# because it seems more complicated to try to do that"
   ]
  },
  {
   "cell_type": "code",
   "execution_count": 17,
   "metadata": {},
   "outputs": [
    {
     "name": "stdout",
     "output_type": "stream",
     "text": [
      "Out of 1000 permutation trials, 85 (8.5%) had a difference in rainfall greater\n",
      "(than or equal to the actual difference between midweek and weekend rainfalls)\n",
      "\n",
      "That is, the p-value is 0.085\n"
     ]
    }
   ],
   "source": [
    "# number of permutation trials\n",
    "N = 1000\n",
    "\n",
    "# number of permutations that produced a greater difference\n",
    "count = 0\n",
    "\n",
    "# initiate a list to hold the (randomly simulated) differences\n",
    "sim_diffs = []\n",
    "\n",
    "for i in range(N):\n",
    "    # shuffle the rows in the df\n",
    "    df = rdu_data.set_index(np.random.permutation(rdu_data.index)).sort_index()\n",
    "\n",
    "    # get the mean precip of the first half of the rows\n",
    "    # (split the df into two parts, index into the zeroth part, and take the mean of the PRCP column)\n",
    "    mean1 = np.array_split(df,2)[0]['PRCP'].mean()\n",
    "\n",
    "    # get the mean precip of the second half of the rows\n",
    "    # (same as just above but index into the index 1 split of the df)\n",
    "    mean2 = np.array_split(df,2)[1]['PRCP'].mean()\n",
    "    \n",
    "    # calculate the difference in the mean rainfalls\n",
    "    mean_diff = abs(mean1 - mean2)\n",
    "    \n",
    "    # put that difference into the list of simulated differences\n",
    "    sim_diffs.append(mean_diff)\n",
    "\n",
    "# find the number of simulated differences that had a greater difference than the actual difference\n",
    "count = len([x for x in sim_diffs if x >= diff_avg])\n",
    "\n",
    "# report findings\n",
    "print(f'Out of {N} permutation trials, {count} ({(100*count/N):.1f}%) had a difference in rainfall greater')\n",
    "print('(than or equal to the actual difference between midweek and weekend rainfalls)')\n",
    "print('')\n",
    "print(f'That is, the p-value is {(count/N):.3f}')"
   ]
  },
  {
   "cell_type": "markdown",
   "metadata": {},
   "source": [
    "### Epilogue: Conclusions\n",
    "With a p-value above 0.05, we conclude that there is not a statistically significant difference in the rainfall on weekdays (T/W/R) and on weekends (S/S/M).\n",
    "\n",
    "However, as Professor Bishop noted, NASA did this with all of the southeast, while we used data only from the RDU weather station. So, I am going to pull more data from NOAA and see what I get from that.\n",
    "\n",
    "---"
   ]
  },
  {
   "cell_type": "markdown",
   "metadata": {},
   "source": [
    "The tool I was using to get weather data from NOAA is limited to 1,000 station-years, and selecting the southeast region includes nearly 8,000 stations. So, I would need to submit almost 80 separate requests to get all of the data I want.\n",
    "\n",
    "I am going to look for an alternate source of weather data and then come back to this."
   ]
  },
  {
   "cell_type": "code",
   "execution_count": null,
   "metadata": {},
   "outputs": [],
   "source": []
  }
 ],
 "metadata": {
  "kernelspec": {
   "display_name": "Python 3",
   "language": "python",
   "name": "python3"
  },
  "language_info": {
   "codemirror_mode": {
    "name": "ipython",
    "version": 3
   },
   "file_extension": ".py",
   "mimetype": "text/x-python",
   "name": "python",
   "nbconvert_exporter": "python",
   "pygments_lexer": "ipython3",
   "version": "3.6.8"
  }
 },
 "nbformat": 4,
 "nbformat_minor": 2
}
